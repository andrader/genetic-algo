{
 "cells": [
  {
   "cell_type": "markdown",
   "metadata": {},
   "source": [
    "## What is a Genetic Algorithm?"
   ]
  },
  {
   "cell_type": "markdown",
   "metadata": {},
   "source": [
    "It is a optimization algorithm inspired on the ideia of *Evolution of Species* through *Natural Selection*.\n",
    "There basic parts of it are::\n",
    "- Initial population: set of individuals wtih different caractheristics.\n",
    "- Fitness function: a way to evaluate how fitted for survival each indidual is.\n",
    "- Selection: step of selecting the fittest individuals that will pass genes to the next generation.\n",
    "- Crossover: mixture of the genes from each parent individual.\n",
    "- Mutation: random mutations that occur in the offspring\n",
    "\n",
    "\n",
    "\n",
    "A pseudo algorithm could be:\n",
    "1. set convergence rule\n",
    "1. current population = initial population\n",
    "1. while not converged: \n",
    "    1. calculate fitness score of each individual in current population\n",
    "    1. select fittest\n",
    "    1. set offspring = crossover of fittest\n",
    "    1. do mutation step to offspring\n",
    "    1. current population = offspring\n"
   ]
  },
  {
   "cell_type": "markdown",
   "metadata": {},
   "source": [
    "### Simple Example\n",
    "Problem: We want guess a secret phrase. We only know the lenght of the solution.\n",
    "\n",
    "Each individual is a string of letters (a list of characters). At first, random.\n",
    "\n",
    "Our fitness score is the number of correct letters in the correct positions."
   ]
  },
  {
   "cell_type": "code",
   "execution_count": 9,
   "metadata": {},
   "outputs": [],
   "source": [
    "from string import ascii_letters\n",
    "\n",
    "# Hyperparameters\n",
    "GEN_LIMIT = 100\n",
    "POP_SIZE = 100\n",
    "MATING_PROP = 0.20 # selects top 20% fittest\n",
    "MUTATION_PROB = 0.1\n",
    "\n",
    "ALLELES = list(ascii_letters + \" \") # set of possible ALLELES\n",
    "ALLELES_SIZE = len(ALLELES) # set size\n",
    "\n",
    "MATING_N = int(POP_SIZE * MATING_PROP)\n",
    "\n",
    "SOLUTION = list(\"Hello World\") # IRL we don't know this\n",
    "CHROMOSOME_SIZE = len(SOLUTION) # number of ALLELES in  each individual"
   ]
  },
  {
   "cell_type": "code",
   "execution_count": 13,
   "metadata": {},
   "outputs": [
    {
     "data": {
      "text/plain": [
       "0.25"
      ]
     },
     "execution_count": 13,
     "metadata": {},
     "output_type": "execute_result"
    }
   ],
   "source": [
    "pop_scores"
   ]
  },
  {
   "cell_type": "code",
   "execution_count": 30,
   "metadata": {},
   "outputs": [
    {
     "data": {
      "text/plain": [
       "<AxesSubplot:xlabel='generation', ylabel='best_score'>"
      ]
     },
     "execution_count": 30,
     "metadata": {},
     "output_type": "execute_result"
    },
    {
     "data": {
      "image/png": "[encoded data removed]",
      "text/plain": [
       "<Figure size 432x288 with 1 Axes>"
      ]
     },
     "metadata": {
      "needs_background": "light"
     },
     "output_type": "display_data"
    }
   ],
   "source": [
    "from random import choices\n",
    "import numpy as np\n",
    "# objective fun\n",
    "def func_fitness(individual):\n",
    "    return sum(x==y for x,y in zip(individual, SOLUTION))\n",
    "\n",
    "def calc_fitness_scores(pop, func_fitness, *args, **kwargs):\n",
    "    return [func_fitness(individual, *args, **kwargs) for individual in pop]\n",
    "\n",
    "def calc_fittests_ranks(scores):\n",
    "    return np.argsort(scores)[::-1]\n",
    "\n",
    "def select_top_fittests(pop, fittests_ranks, n):\n",
    "    return [pop[i] for i in fittests_ranks[:n]]\n",
    "\n",
    "def mate_pair(parent1, parent2):\n",
    "    \"\"\"For a pair of parents, return two offspring with random chromossomes from one or the other parent, alternating.\"\"\"\n",
    "    picks = choices([False, True], k=CHROMOSOME_SIZE)\n",
    "\n",
    "    child1 = [a if pick else b for pick, a,b in zip(picks, parent1, parent2)]\n",
    "    child2 = [b if pick else a for pick, a,b in zip(picks, parent1, parent2)]\n",
    "\n",
    "    return child1, child2\n",
    "\n",
    "def mate_random_pairs(pop, new_pop_size):\n",
    "\n",
    "    n_pairs = (new_pop_size+1)//2\n",
    "\n",
    "    parents = choices(pop, k = 2 * n_pairs)\n",
    "\n",
    "    offspring = []\n",
    "    for i in range(0, 2 * n_pairs, 2):\n",
    "        offspring.extend(mate_pair(parents[i], parents[i+1]))\n",
    "    \n",
    "    return offspring[:new_pop_size]\n",
    "\n",
    "def mutate(pop, mutate_prob):\n",
    "    \"\"\"No mutation for now\"\"\"\n",
    "    return pop\n",
    "\n",
    "\n",
    "\n",
    "\n",
    "\n",
    "pop = [choices(ALLELES, k = CHROMOSOME_SIZE) for _ in range(POP_SIZE)]\n",
    "\n",
    "metrics = []\n",
    "for i in range(GEN_LIMIT):\n",
    "    \n",
    "    # 1. calculate fitness score of each individual in current population\n",
    "    pop_scores = calc_fitness_scores(pop, func_fitness)\n",
    "    pop_ranks = calc_fittests_ranks(pop_scores)\n",
    "    \n",
    "    # store metrics about current generation\n",
    "    metrics.append(dict(\n",
    "        generation=i,\n",
    "        best_individual=pop[pop_ranks[0]],\n",
    "        best_score=pop_scores[pop_ranks[0]],\n",
    "    ))\n",
    "    \n",
    "    # 1. select\n",
    "    mating_pop = select_top_fittests(pop, pop_ranks, n = MATING_N)\n",
    "\n",
    "    # 1. crossover\n",
    "    pop = mate_random_pairs(mating_pop, len(pop))\n",
    "    \n",
    "    # 1. mutate\n",
    "    pop = mutate(pop, mutate_prob=MUTATION_PROB)\n",
    "\n",
    "\n",
    "import pandas as pd\n",
    "\n",
    "dfmetrics = pd.DataFrame(metrics)\n",
    "ax = dfmetrics.plot.line('generation','best_score')\n",
    "dfmetrics.plot.scatter('generation','best_score', ax=ax)\n"
   ]
  },
  {
   "cell_type": "code",
   "execution_count": 30,
   "metadata": {},
   "outputs": [],
   "source": []
  },
  {
   "cell_type": "code",
   "execution_count": null,
   "metadata": {},
   "outputs": [],
   "source": []
  }
 ],
 "metadata": {
  "kernelspec": {
   "display_name": "Python 3.9.12 ('venv': venv)",
   "language": "python",
   "name": "python3"
  },
  "language_info": {
   "codemirror_mode": {
    "name": "ipython",
    "version": 3
   },
   "file_extension": ".py",
   "mimetype": "text/x-python",
   "name": "python",
   "nbconvert_exporter": "python",
   "pygments_lexer": "ipython3",
   "version": "3.9.12"
  },
  "orig_nbformat": 4,
  "vscode": {
   "interpreter": {
    "hash": "eb31fcfd243b1a1afa58c8bb9c7a93f61274e28571b49e709568018162d396d6"
   }
  }
 },
 "nbformat": 4,
 "nbformat_minor": 2
}
