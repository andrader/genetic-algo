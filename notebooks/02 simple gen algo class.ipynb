{
 "cells": [
  {
   "cell_type": "markdown",
   "metadata": {},
   "source": [
    "## What is a Genetic Algorithm?"
   ]
  },
  {
   "cell_type": "markdown",
   "metadata": {},
   "source": [
    "It is a optimization algorithm inspired on the ideia of Evolution of Species through Natural Selection.\n",
    "There basic parts of it are::\n",
    "- Initial population: set of individuals wtih different caractheristics.\n",
    "- Fitness function: a way to evaluate how fitted for survival each indidual is.\n",
    "- Selection: step of selecting the fittest individuals that will pass genes to the next generation.\n",
    "- Crossover: mixture of the genes from each parent individual.\n",
    "- Mutation: random mutations that occur in the offspring\n",
    "\n",
    "\n",
    "\n",
    "A pseudo algorithm could be:\n",
    "1. set convergence rule\n",
    "1. current population = initial population\n",
    "1. while not converged: \n",
    "    1. calculate fitness score of each individual in current population\n",
    "    1. select fittest\n",
    "    1. set offspring = crossover of fittest\n",
    "    1. do mutation step to offspring\n",
    "    1. current population = offspring\n"
   ]
  },
  {
   "cell_type": "code",
   "execution_count": 14,
   "metadata": {},
   "outputs": [],
   "source": [
    "#from ..foo import bar\n",
    "#import os\n",
    "#os.environ\n",
    "import os, sys\n",
    "dir = os.path.abspath('..')\n",
    "if not dir in sys.path: \n",
    "    sys.path.insert(0, dir)"
   ]
  },
  {
   "cell_type": "code",
   "execution_count": 3,
   "metadata": {},
   "outputs": [],
   "source": [
    "#!pip list\n",
    "import ga"
   ]
  },
  {
   "cell_type": "code",
   "execution_count": 6,
   "metadata": {},
   "outputs": [],
   "source": [
    "%reload_ext autoreload\n",
    "%autoreload 2\n",
    "\n",
    "import numpy as np\n",
    "from string import ascii_letters\n",
    "from tqdm.cli import tqdm\n",
    "import pandas as pd\n",
    "import matplotlib.pyplot as plt\n",
    "\n",
    "#import genetic_algo\n",
    "from ga import BaseIndividual, Population\n",
    "\n",
    "def has_converged(best_scores, gen, gen_limit, delta_gen, min_diff):\n",
    "    \n",
    "    if gen > gen_limit:\n",
    "        return True\n",
    "    \n",
    "    # if gen >= delta_gen:\n",
    "    #     last_score = best_scores[-1]\n",
    "    #     nth_score = best_scores[-delta_gen]\n",
    "    #     diff = last_score - nth_score\n",
    "\n",
    "        #print(f\"#{gen}: {last_score}, #{gen-delta_gen}: {nth_score}, diff: {diff}\")\n",
    "\n",
    "        # if abs(diff) <= min_diff:\n",
    "        #     return True\n",
    "\n",
    "    return False\n",
    "    \n",
    "\n",
    "\n",
    "# each individual is a string of letters\n",
    "POP_SIZE = 100\n",
    "ALLELES = np.array(tuple(ascii_letters + \" \")) # set of possible ALLELES\n",
    "ALLELES_SIZE = len(ALLELES) # set size\n",
    "\n",
    "SOLUTION = np.array(tuple(\"Hello World\"))\n",
    "CHROMOSOME_SIZE = len(SOLUTION) # number of ALLELES in  each individual\n",
    "\n",
    "MATING_PROP = 0.20 # selects top 20% fittest\n",
    "MATING_N = int(POP_SIZE * MATING_PROP)\n",
    "\n",
    "MUTATION_PROB = 0.1\n",
    "\n",
    "GEN_LIMIT = 100\n",
    "\n",
    "\n",
    "\n",
    "class Individual(BaseIndividual):\n",
    "    def __init__(self, chromosome):\n",
    "        super().__init__(chromosome, ALLELES)\n",
    "\n"
   ]
  },
  {
   "cell_type": "code",
   "execution_count": 3,
   "metadata": {},
   "outputs": [
    {
     "data": {
      "text/plain": [
       "<AxesSubplot:xlabel='gen', ylabel='best_score'>"
      ]
     },
     "execution_count": 3,
     "metadata": {},
     "output_type": "execute_result"
    },
    {
     "data": {
      "image/png": "[encoded data removed]",
      "text/plain": [
       "<Figure size 432x288 with 1 Axes>"
      ]
     },
     "metadata": {
      "needs_background": "light"
     },
     "output_type": "display_data"
    }
   ],
   "source": [
    "\n",
    "# objective fun\n",
    "def func_fitness(x):\n",
    "    return 1 + np.sum(x.chromosome == SOLUTION)\n",
    "\n",
    "\n",
    "def get_random_individuals(alleles, chromosome_size):\n",
    "    return Individual(np.random.choice(alleles, size = chromosome_size))\n",
    "\n",
    "\n",
    "\n",
    "\n",
    "pop = Population([get_random_individuals(ALLELES, CHROMOSOME_SIZE) for _ in range(POP_SIZE)])\n",
    "\n",
    "best_scores=[]\n",
    "metrics = []\n",
    "gen=0\n",
    "while not has_converged(best_scores, gen, gen_limit=GEN_LIMIT, delta_gen=20, min_diff=0):\n",
    "    \n",
    "    # 1. calculate fitness score of each individual in current population\n",
    "    pop_scores = pop.calc_fitness_scores(func_fitness)\n",
    "    idx_order = pop.calc_fittests_rank()\n",
    "    \n",
    "    # store metrics about generation\n",
    "    best_score = pop_scores[idx_order[0]]\n",
    "    best_scores.append(best_score)\n",
    "\n",
    "    metrics.append(dict(\n",
    "        gen=gen,\n",
    "        best_individual=pop.pop[idx_order[0]],\n",
    "        best_score=best_score,\n",
    "    ))\n",
    "\n",
    "    # 1. select\n",
    "    mating_pop = pop.select_top_fittests(n = MATING_N)\n",
    "\n",
    "    # 1. crossover\n",
    "    pop = mating_pop.mate_randomly(pop.size)\n",
    "    \n",
    "    # 1. mutate\n",
    "    pop = pop.mutate(mutate_prob=MUTATION_PROB)\n",
    "\n",
    "    gen+=1\n",
    "\n",
    "\n",
    "\n",
    "\n",
    "dfmetrics = pd.DataFrame(metrics)\n",
    "ax = dfmetrics.plot.line('gen','best_score')\n",
    "dfmetrics.plot.scatter('gen','best_score', ax=ax)\n"
   ]
  },
  {
   "cell_type": "code",
   "execution_count": 4,
   "metadata": {},
   "outputs": [
    {
     "data": {
      "text/html": [
       "<div>\n",
       "<style scoped>\n",
       "    .dataframe tbody tr th:only-of-type {\n",
       "        vertical-align: middle;\n",
       "    }\n",
       "\n",
       "    .dataframe tbody tr th {\n",
       "        vertical-align: top;\n",
       "    }\n",
       "\n",
       "    .dataframe thead th {\n",
       "        text-align: right;\n",
       "    }\n",
       "</style>\n",
       "<table border=\"1\" class=\"dataframe\">\n",
       "  <thead>\n",
       "    <tr style=\"text-align: right;\">\n",
       "      <th></th>\n",
       "      <th>gen</th>\n",
       "      <th>best_individual</th>\n",
       "      <th>best_score</th>\n",
       "    </tr>\n",
       "  </thead>\n",
       "  <tbody>\n",
       "    <tr>\n",
       "      <th>0</th>\n",
       "      <td>0</td>\n",
       "      <td>JZPOgZMonld</td>\n",
       "      <td>4</td>\n",
       "    </tr>\n",
       "    <tr>\n",
       "      <th>1</th>\n",
       "      <td>1</td>\n",
       "      <td>IelcI  N im</td>\n",
       "      <td>4</td>\n",
       "    </tr>\n",
       "    <tr>\n",
       "      <th>2</th>\n",
       "      <td>2</td>\n",
       "      <td>HlPOg GoAld</td>\n",
       "      <td>6</td>\n",
       "    </tr>\n",
       "    <tr>\n",
       "      <th>3</th>\n",
       "      <td>3</td>\n",
       "      <td>HelsI WQ iD</td>\n",
       "      <td>6</td>\n",
       "    </tr>\n",
       "    <tr>\n",
       "      <th>4</th>\n",
       "      <td>4</td>\n",
       "      <td>HZPOg Gorld</td>\n",
       "      <td>7</td>\n",
       "    </tr>\n",
       "    <tr>\n",
       "      <th>...</th>\n",
       "      <td>...</td>\n",
       "      <td>...</td>\n",
       "      <td>...</td>\n",
       "    </tr>\n",
       "    <tr>\n",
       "      <th>96</th>\n",
       "      <td>96</td>\n",
       "      <td>Hello World</td>\n",
       "      <td>12</td>\n",
       "    </tr>\n",
       "    <tr>\n",
       "      <th>97</th>\n",
       "      <td>97</td>\n",
       "      <td>Hello World</td>\n",
       "      <td>12</td>\n",
       "    </tr>\n",
       "    <tr>\n",
       "      <th>98</th>\n",
       "      <td>98</td>\n",
       "      <td>Hello World</td>\n",
       "      <td>12</td>\n",
       "    </tr>\n",
       "    <tr>\n",
       "      <th>99</th>\n",
       "      <td>99</td>\n",
       "      <td>Hello World</td>\n",
       "      <td>12</td>\n",
       "    </tr>\n",
       "    <tr>\n",
       "      <th>100</th>\n",
       "      <td>100</td>\n",
       "      <td>Hello World</td>\n",
       "      <td>12</td>\n",
       "    </tr>\n",
       "  </tbody>\n",
       "</table>\n",
       "<p>101 rows × 3 columns</p>\n",
       "</div>"
      ],
      "text/plain": [
       "     gen best_individual  best_score\n",
       "0      0     JZPOgZMonld           4\n",
       "1      1     IelcI  N im           4\n",
       "2      2     HlPOg GoAld           6\n",
       "3      3     HelsI WQ iD           6\n",
       "4      4     HZPOg Gorld           7\n",
       "..   ...             ...         ...\n",
       "96    96     Hello World          12\n",
       "97    97     Hello World          12\n",
       "98    98     Hello World          12\n",
       "99    99     Hello World          12\n",
       "100  100     Hello World          12\n",
       "\n",
       "[101 rows x 3 columns]"
      ]
     },
     "execution_count": 4,
     "metadata": {},
     "output_type": "execute_result"
    }
   ],
   "source": [
    "dfmetrics"
   ]
  },
  {
   "cell_type": "code",
   "execution_count": 30,
   "metadata": {},
   "outputs": [],
   "source": []
  },
  {
   "cell_type": "code",
   "execution_count": null,
   "metadata": {},
   "outputs": [],
   "source": []
  }
 ],
 "metadata": {
  "kernelspec": {
   "display_name": "Python 3.9.12 ('venv': venv)",
   "language": "python",
   "name": "python3"
  },
  "language_info": {
   "codemirror_mode": {
    "name": "ipython",
    "version": 3
   },
   "file_extension": ".py",
   "mimetype": "text/x-python",
   "name": "python",
   "nbconvert_exporter": "python",
   "pygments_lexer": "ipython3",
   "version": "3.9.12"
  },
  "orig_nbformat": 4,
  "vscode": {
   "interpreter": {
    "hash": "eb31fcfd243b1a1afa58c8bb9c7a93f61274e28571b49e709568018162d396d6"
   }
  }
 },
 "nbformat": 4,
 "nbformat_minor": 2
}
