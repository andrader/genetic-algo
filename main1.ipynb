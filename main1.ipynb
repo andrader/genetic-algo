{
 "cells": [
  {
   "cell_type": "markdown",
   "metadata": {},
   "source": [
    "## What is a Genetic Algorithm?"
   ]
  },
  {
   "cell_type": "markdown",
   "metadata": {},
   "source": [
    "It is a optimization algorithm inspired on the ideia of Evolution of Species through Natural Selection.\n",
    "There basic parts of it are::\n",
    "- Initial population: set of individuals wtih different caractheristics.\n",
    "- Fitness function: a way to evaluate how fitted for survival each indidual is.\n",
    "- Selection: step of selecting the fittest individuals that will pass genes to the next generation.\n",
    "- Crossover: mixture of the genes from each parent individual.\n",
    "- Mutation: random mutations that occur in the offspring\n",
    "\n",
    "\n",
    "\n",
    "A pseudo algorithm could be:\n",
    "1. set convergence rule\n",
    "1. current population = initial population\n",
    "1. while not converged: \n",
    "    1. calculate fitness score of each individual in current population\n",
    "    1. select fittest\n",
    "    1. set offspring = crossover of fittest\n",
    "    1. do mutation step to offspring\n",
    "    1. current population = offspring\n"
   ]
  },
  {
   "cell_type": "code",
   "execution_count": 1,
   "metadata": {},
   "outputs": [],
   "source": [
    "import numpy as np\n",
    "import pandas as pd\n",
    "from string import ascii_uppercase\n",
    "import random"
   ]
  },
  {
   "cell_type": "code",
   "execution_count": 149,
   "metadata": {},
   "outputs": [],
   "source": [
    "# each individual is a string of letters\n",
    "POP_SIZE = 100\n",
    "GENES = \"helowrd\"#ascii_uppercase\n",
    "GENES_SIZE = len(GENES)\n",
    "SOLUTION = \"helloworld\"#.upper()\n",
    "INDIVIDUAL_SIZE = len(SOLUTION)\n",
    "\n",
    "SELECTION_PROP = 0.20\n",
    "SELECTION_N = int(POP_SIZE * SELECTION_PROP)\n",
    "\n",
    "MUTATION_PROP = 0.1"
   ]
  },
  {
   "cell_type": "code",
   "execution_count": 3,
   "metadata": {},
   "outputs": [],
   "source": [
    "def get_random_individual():\n",
    "    return ''.join(random.choices(GENES, k = INDIVIDUAL_SIZE))\n",
    "\n",
    "\n",
    "\n",
    "def get_fitness_score(individual: str):\n",
    "    # compare each gene\n",
    "    y = [individual[i] == SOLUTION[i] for i in range(INDIVIDUAL_SIZE)]\n",
    "    return 1 + np.sum(y)\n",
    "\n",
    "\n",
    "\n",
    "def select_fittests(curr_scores):\n",
    "    idx_order = np.argsort(-curr_scores)[:SELECTION_N]\n",
    "    return idx_order\n",
    "\n",
    "def select_pairs(curr_scores, idx_order):\n",
    "\n",
    "    # select random individual with prob proportional to score\n",
    "    sel_scores = curr_scores[idx_order]\n",
    "    weights = sel_scores / np.sum(sel_scores)\n",
    "\n",
    "    idx_parents1 = np.random.choice(idx_order, size=POP_SIZE, replace=True, p=weights)\n",
    "    idx_parents2 = np.random.choice(idx_order, size=POP_SIZE, replace=True, p=weights)\n",
    "    \n",
    "    return idx_parents1, idx_parents2\n",
    "\n",
    "\n",
    "\n",
    "def crossover_pair(x, y):\n",
    "    # returns a new individual\n",
    "    if x==y: return x\n",
    "    choice = np.random.binomial(n=1,p=0.5, size=INDIVIDUAL_SIZE)\n",
    "    return ''.join([x[i] if choice[i] else y[i] for i in range(INDIVIDUAL_SIZE)])\n",
    "\n",
    "\n",
    "\n",
    "def crossover(parents1, parents2):\n",
    "    return np.array([crossover_pair(x,y) for x, y in zip(parents1, parents2)])\n",
    "\n",
    "\n",
    "def mutate_individual(x):\n",
    "    mutate = np.random.binomial(n=1,p=MUTATION_PROP, size=INDIVIDUAL_SIZE)\n",
    "    return ''.join([GENES[np.random.randint(0, GENES_SIZE)] if mutate[i] else x[i] for i in range(INDIVIDUAL_SIZE)])\n",
    "\n",
    "\n",
    "def mutate(pop):\n",
    "    return np.array([mutate_individual(x) for x in pop])\n",
    "\n"
   ]
  },
  {
   "cell_type": "code",
   "execution_count": 42,
   "metadata": {},
   "outputs": [
    {
     "data": {
      "text/plain": [
       "array(['ZNWOQMUBSN', 'LOYFFTCQNZ', 'PUVJNIVLEV', 'LRFTROGNYJ',\n",
       "       'LUSYZWVWLM', 'VXXJDKYOLA', 'VIDXKNONPY', 'CODREZHMHY',\n",
       "       'QDLNNGDFGM', 'CIGBNTLWIN'], dtype='<U10')"
      ]
     },
     "execution_count": 42,
     "metadata": {},
     "output_type": "execute_result"
    }
   ],
   "source": [
    "\n",
    "initial_pop = np.array([get_random_individual() for i in range(POP_SIZE)])\n",
    "initial_pop[:10]"
   ]
  },
  {
   "cell_type": "code",
   "execution_count": 43,
   "metadata": {},
   "outputs": [],
   "source": [
    "from tqdm.cli import tqdm"
   ]
  },
  {
   "cell_type": "code",
   "execution_count": 44,
   "metadata": {},
   "outputs": [
    {
     "name": "stderr",
     "output_type": "stream",
     "text": [
      "100%|██████████| 1000/1000 [00:28<00:00, 35.03it/s]\n"
     ]
    }
   ],
   "source": [
    "curr_pop = initial_pop\n",
    "\n",
    "GEN_LIMIT = 1000\n",
    "best_scores = []\n",
    "best_individuals = []\n",
    "\n",
    "for i in tqdm(range(GEN_LIMIT)):\n",
    "    # 1. calculate fitness score of each individual in current population\n",
    "    curr_scores = np.array([get_fitness_score(x) for x in initial_pop])\n",
    "\n",
    "    # 1. select fittest\n",
    "    idx_order = select_fittests(curr_scores)\n",
    "    best_scores.append(curr_scores[idx_order[0]])\n",
    "    best_individuals.append(curr_pop[idx_order[0]])\n",
    "\n",
    "    # 1. set offspring = crossover of fittest\n",
    "    idx_parents1, idx_parents2 = select_pairs(curr_scores, idx_order)\n",
    "    offspring = crossover(curr_pop[idx_parents1], curr_pop[idx_parents2])\n",
    "\n",
    "    # 1. do mutation step to offspring\n",
    "    offspring = mutate(offspring)\n",
    "\n",
    "    # 1. current population = offspring\n",
    "    curr_pop = offspring"
   ]
  }
 ],
 "metadata": {
  "interpreter": {
   "hash": "21858ee56250e2e69b387ae452cbee734585e9a47fe9d9500644daf3df63608b"
  },
  "kernelspec": {
   "display_name": "Python 3.9.7 ('base2')",
   "language": "python",
   "name": "python3"
  },
  "language_info": {
   "codemirror_mode": {
    "name": "ipython",
    "version": 3
   },
   "file_extension": ".py",
   "mimetype": "text/x-python",
   "name": "python",
   "nbconvert_exporter": "python",
   "pygments_lexer": "ipython3",
   "version": "3.9.7"
  },
  "orig_nbformat": 4
 },
 "nbformat": 4,
 "nbformat_minor": 2
}
